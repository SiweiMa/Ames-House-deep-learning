{
 "cells": [
  {
   "cell_type": "code",
   "execution_count": 1,
   "id": "painful-trouble",
   "metadata": {
    "ExecuteTime": {
     "end_time": "2021-03-20T06:24:13.647753Z",
     "start_time": "2021-03-20T06:24:13.196364Z"
    }
   },
   "outputs": [],
   "source": [
    "import pandas as pd\n",
    "import numpy as np"
   ]
  },
  {
   "cell_type": "code",
   "execution_count": 2,
   "id": "further-webster",
   "metadata": {
    "ExecuteTime": {
     "end_time": "2021-03-20T06:24:13.694833Z",
     "start_time": "2021-03-20T06:24:13.650464Z"
    }
   },
   "outputs": [],
   "source": [
    "train_data = pd.read_csv('train.csv')\n",
    "test_data = pd.read_csv('test.csv')"
   ]
  },
  {
   "cell_type": "code",
   "execution_count": 3,
   "id": "requested-bernard",
   "metadata": {
    "ExecuteTime": {
     "end_time": "2021-03-20T06:24:14.133893Z",
     "start_time": "2021-03-20T06:24:14.109219Z"
    },
    "scrolled": true
   },
   "outputs": [
    {
     "data": {
      "text/plain": [
       "(2919, 79)"
      ]
     },
     "execution_count": 3,
     "metadata": {},
     "output_type": "execute_result"
    }
   ],
   "source": [
    "data = pd.concat((train_data.iloc[:, 1:-1], test_data.iloc[:, 1:]), axis=0)\n",
    "data.shape"
   ]
  },
  {
   "cell_type": "code",
   "execution_count": 4,
   "id": "changing-deputy",
   "metadata": {
    "ExecuteTime": {
     "end_time": "2021-03-20T06:24:14.736586Z",
     "start_time": "2021-03-20T06:24:14.683041Z"
    }
   },
   "outputs": [],
   "source": [
    "numeric_features = data.dtypes[data.dtypes != 'object'].index\n",
    "data[numeric_features] = data[numeric_features].apply(lambda x: (x - x.mean()) / (x.std()))\n",
    "data[numeric_features] = data[numeric_features].fillna(0)"
   ]
  },
  {
   "cell_type": "code",
   "execution_count": 5,
   "id": "personalized-request",
   "metadata": {
    "ExecuteTime": {
     "end_time": "2021-03-20T06:24:15.282820Z",
     "start_time": "2021-03-20T06:24:15.230628Z"
    },
    "scrolled": true
   },
   "outputs": [
    {
     "data": {
      "text/plain": [
       "(2919, 331)"
      ]
     },
     "execution_count": 5,
     "metadata": {},
     "output_type": "execute_result"
    }
   ],
   "source": [
    "data = pd.get_dummies(data, dummy_na=True)\n",
    "data.shape"
   ]
  },
  {
   "cell_type": "code",
   "execution_count": 6,
   "id": "universal-distinction",
   "metadata": {
    "ExecuteTime": {
     "end_time": "2021-03-20T06:24:16.043465Z",
     "start_time": "2021-03-20T06:24:16.037034Z"
    },
    "scrolled": true
   },
   "outputs": [],
   "source": [
    "n_train = train_data.shape[0]\n",
    "train_pytorch = pd.concat((data[: n_train], train_data['SalePrice']), axis=1)\n",
    "test_pytorch = data[n_train: ]\n"
   ]
  },
  {
   "cell_type": "code",
   "execution_count": 7,
   "id": "refined-copying",
   "metadata": {
    "ExecuteTime": {
     "end_time": "2021-03-20T06:24:20.371937Z",
     "start_time": "2021-03-20T06:24:20.098480Z"
    }
   },
   "outputs": [],
   "source": [
    "train_pytorch.to_csv('train_pytorch_01.csv')\n",
    "test_pytorch.to_csv('test_pytorch_01.csv')"
   ]
  },
  {
   "cell_type": "code",
   "execution_count": 8,
   "id": "continued-patio",
   "metadata": {
    "ExecuteTime": {
     "end_time": "2021-03-20T06:24:20.697005Z",
     "start_time": "2021-03-20T06:24:20.692909Z"
    }
   },
   "outputs": [
    {
     "data": {
      "text/plain": [
       "(1459, 331)"
      ]
     },
     "execution_count": 8,
     "metadata": {},
     "output_type": "execute_result"
    }
   ],
   "source": [
    "test_pytorch.shape"
   ]
  },
  {
   "cell_type": "code",
   "execution_count": 9,
   "id": "restricted-riverside",
   "metadata": {
    "ExecuteTime": {
     "end_time": "2021-03-20T06:24:21.319893Z",
     "start_time": "2021-03-20T06:24:21.316539Z"
    }
   },
   "outputs": [
    {
     "data": {
      "text/plain": [
       "(1460, 332)"
      ]
     },
     "execution_count": 9,
     "metadata": {},
     "output_type": "execute_result"
    }
   ],
   "source": [
    "train_pytorch.shape"
   ]
  },
  {
   "cell_type": "code",
   "execution_count": null,
   "id": "western-legend",
   "metadata": {},
   "outputs": [],
   "source": []
  }
 ],
 "metadata": {
  "kernelspec": {
   "display_name": "Python 3",
   "language": "python",
   "name": "python3"
  },
  "language_info": {
   "codemirror_mode": {
    "name": "ipython",
    "version": 3
   },
   "file_extension": ".py",
   "mimetype": "text/x-python",
   "name": "python",
   "nbconvert_exporter": "python",
   "pygments_lexer": "ipython3",
   "version": "3.8.5"
  }
 },
 "nbformat": 4,
 "nbformat_minor": 5
}
